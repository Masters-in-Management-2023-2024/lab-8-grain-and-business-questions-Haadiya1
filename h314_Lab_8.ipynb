{
  "nbformat": 4,
  "nbformat_minor": 0,
  "metadata": {
    "colab": {
      "provenance": []
    },
    "kernelspec": {
      "name": "python3",
      "display_name": "Python 3"
    },
    "language_info": {
      "name": "python"
    }
  },
  "cells": [
    {
      "cell_type": "code",
      "source": [
        "#Diamond Company Analytics Challenge\n",
        "\n",
        "#Time: 35 minutes\n",
        "\n",
        "#Scenario: You are the new data analyst at a prestigious diamond company. The CEO has called an urgent meeting and needs answers to critical business questions about the inventory.\n",
        "\n",
        "#Your Mission: Analyze the diamond inventory data and provide insights to guide strategic decisions."
      ],
      "metadata": {
        "id": "kGvfGnvwGv3o"
      },
      "execution_count": 3,
      "outputs": []
    },
    {
      "cell_type": "code",
      "execution_count": 17,
      "metadata": {
        "colab": {
          "base_uri": "https://localhost:8080/",
          "height": 286
        },
        "id": "1H1TW0UZGeOf",
        "outputId": "9a9731b7-7869-4ecc-bb5b-3599032b7029"
      },
      "outputs": [
        {
          "output_type": "stream",
          "name": "stdout",
          "text": [
            "Loading diamonds dataset...\n",
            "Dataset loaded successfully!\n"
          ]
        },
        {
          "output_type": "execute_result",
          "data": {
            "text/plain": [
              "shape: (5, 8)\n",
              "┌──────────────┬───────┬───────┬─────────┬────────┬──────────┬────────┬───────┐\n",
              "│ Carat Weight ┆ Cut   ┆ Color ┆ Clarity ┆ Polish ┆ Symmetry ┆ Report ┆ Price │\n",
              "│ ---          ┆ ---   ┆ ---   ┆ ---     ┆ ---    ┆ ---      ┆ ---    ┆ ---   │\n",
              "│ f64          ┆ str   ┆ str   ┆ str     ┆ str    ┆ str      ┆ str    ┆ i64   │\n",
              "╞══════════════╪═══════╪═══════╪═════════╪════════╪══════════╪════════╪═══════╡\n",
              "│ 1.1          ┆ Ideal ┆ H     ┆ SI1     ┆ VG     ┆ EX       ┆ GIA    ┆ 5169  │\n",
              "│ 0.83         ┆ Ideal ┆ H     ┆ VS1     ┆ ID     ┆ ID       ┆ AGSL   ┆ 3470  │\n",
              "│ 0.85         ┆ Ideal ┆ H     ┆ SI1     ┆ EX     ┆ EX       ┆ GIA    ┆ 3183  │\n",
              "│ 0.91         ┆ Ideal ┆ E     ┆ SI1     ┆ VG     ┆ VG       ┆ GIA    ┆ 4370  │\n",
              "│ 0.83         ┆ Ideal ┆ G     ┆ SI1     ┆ EX     ┆ EX       ┆ GIA    ┆ 3171  │\n",
              "└──────────────┴───────┴───────┴─────────┴────────┴──────────┴────────┴───────┘"
            ],
            "text/html": [
              "<div><style>\n",
              ".dataframe > thead > tr,\n",
              ".dataframe > tbody > tr {\n",
              "  text-align: right;\n",
              "  white-space: pre-wrap;\n",
              "}\n",
              "</style>\n",
              "<small>shape: (5, 8)</small><table border=\"1\" class=\"dataframe\"><thead><tr><th>Carat Weight</th><th>Cut</th><th>Color</th><th>Clarity</th><th>Polish</th><th>Symmetry</th><th>Report</th><th>Price</th></tr><tr><td>f64</td><td>str</td><td>str</td><td>str</td><td>str</td><td>str</td><td>str</td><td>i64</td></tr></thead><tbody><tr><td>1.1</td><td>&quot;Ideal&quot;</td><td>&quot;H&quot;</td><td>&quot;SI1&quot;</td><td>&quot;VG&quot;</td><td>&quot;EX&quot;</td><td>&quot;GIA&quot;</td><td>5169</td></tr><tr><td>0.83</td><td>&quot;Ideal&quot;</td><td>&quot;H&quot;</td><td>&quot;VS1&quot;</td><td>&quot;ID&quot;</td><td>&quot;ID&quot;</td><td>&quot;AGSL&quot;</td><td>3470</td></tr><tr><td>0.85</td><td>&quot;Ideal&quot;</td><td>&quot;H&quot;</td><td>&quot;SI1&quot;</td><td>&quot;EX&quot;</td><td>&quot;EX&quot;</td><td>&quot;GIA&quot;</td><td>3183</td></tr><tr><td>0.91</td><td>&quot;Ideal&quot;</td><td>&quot;E&quot;</td><td>&quot;SI1&quot;</td><td>&quot;VG&quot;</td><td>&quot;VG&quot;</td><td>&quot;GIA&quot;</td><td>4370</td></tr><tr><td>0.83</td><td>&quot;Ideal&quot;</td><td>&quot;G&quot;</td><td>&quot;SI1&quot;</td><td>&quot;EX&quot;</td><td>&quot;EX&quot;</td><td>&quot;GIA&quot;</td><td>3171</td></tr></tbody></table></div>"
            ]
          },
          "metadata": {},
          "execution_count": 17
        }
      ],
      "source": [
        "import polars as pl\n",
        "\n",
        "# Load the diamonds dataset\n",
        "print(\"Loading diamonds dataset...\")\n",
        "df = pl.read_csv('https://raw.githubusercontent.com/pycaret/pycaret/master/datasets/diamond.csv')\n",
        "print(\"Dataset loaded successfully!\")\n",
        "\n",
        "df.head()"
      ]
    },
    {
      "cell_type": "code",
      "source": [
        "# Question 1\n",
        "\n",
        "print(f\"Shape: {df.shape}\")"
      ],
      "metadata": {
        "colab": {
          "base_uri": "https://localhost:8080/"
        },
        "id": "1iE-0MajGz26",
        "outputId": "f5d1971f-68a0-4abe-edbe-715f9e85e65d"
      },
      "execution_count": 7,
      "outputs": [
        {
          "output_type": "stream",
          "name": "stdout",
          "text": [
            "Shape: (6000, 8)\n"
          ]
        }
      ]
    },
    {
      "cell_type": "code",
      "source": [
        "# Question 2\n",
        "\n",
        "print(f\"Columns: {df.columns}\")"
      ],
      "metadata": {
        "colab": {
          "base_uri": "https://localhost:8080/"
        },
        "id": "vJKt83kUHP1J",
        "outputId": "0f97a66e-276e-476e-87ca-e66bd07157fc"
      },
      "execution_count": 8,
      "outputs": [
        {
          "output_type": "stream",
          "name": "stdout",
          "text": [
            "Columns: ['Carat Weight', 'Cut', 'Color', 'Clarity', 'Polish', 'Symmetry', 'Report', 'Price']\n"
          ]
        }
      ]
    },
    {
      "cell_type": "code",
      "source": [
        "# Question 3\n",
        "\n",
        "print(f\"Total number of rows: {len(df)}\")\n",
        "print(\"\\nEach row represents: ONE DIAMOND\")\n",
        "print(\"This is our current grain: diamond-level data\")"
      ],
      "metadata": {
        "colab": {
          "base_uri": "https://localhost:8080/"
        },
        "id": "Kf5dWNMcHT3c",
        "outputId": "16931688-ed6b-4849-8ca2-8068da9710d0"
      },
      "execution_count": 38,
      "outputs": [
        {
          "output_type": "stream",
          "name": "stdout",
          "text": [
            "Total number of rows: 6000\n",
            "\n",
            "Each row represents: ONE DIAMOND\n",
            "This is our current grain: diamond-level data\n"
          ]
        }
      ]
    },
    {
      "cell_type": "code",
      "source": [
        "# Question 4\n",
        "\n",
        "total_carat = df.select(pl.col(\"Carat Weight\").sum()).item()\n",
        "print(f\"Total weight of all diamonds is {total_carat:,.2f} carats\")"
      ],
      "metadata": {
        "colab": {
          "base_uri": "https://localhost:8080/"
        },
        "id": "-hcF0yxTMH1s",
        "outputId": "44c7f880-ce1b-4565-c684-983327d09f0e"
      },
      "execution_count": 39,
      "outputs": [
        {
          "output_type": "stream",
          "name": "stdout",
          "text": [
            "Total weight of all diamonds is 8,007.12 carats\n"
          ]
        }
      ]
    },
    {
      "cell_type": "code",
      "source": [
        "# Question 5\n",
        "\n",
        "# Count unique values\n",
        "unique_count = df.select(pl.col(\"Cut\").n_unique()).item()\n",
        "print(f\"Number of unique cuts: {unique_count}\")\n",
        "\n",
        "# Show what they are\n",
        "unique_values = df.select(pl.col(\"Cut\").unique().sort()).to_series().to_list()\n",
        "print(f\"The variety of cuts include: {unique_values}\")\n"
      ],
      "metadata": {
        "colab": {
          "base_uri": "https://localhost:8080/"
        },
        "id": "5wc_AJzPM6Jq",
        "outputId": "fa8446fd-21df-40a5-9f0c-ed6ac979d073"
      },
      "execution_count": 25,
      "outputs": [
        {
          "output_type": "stream",
          "name": "stdout",
          "text": [
            "Number of unique cuts: 5\n",
            "The variety of cuts include: ['Fair', 'Good', 'Ideal', 'Signature-Ideal', 'Very Good']\n"
          ]
        }
      ]
    },
    {
      "cell_type": "code",
      "source": [
        "# Question 6\n",
        "\n",
        "max_price = df.select(pl.col(\"Price\").max()).item()\n",
        "print(f\"Our most valuable diamond costs: ${max_price:,.2f}\")\n",
        "\n",
        "min_price = df.select(pl.col(\"Price\").min()).item()\n",
        "print(f\"Our least valuable diamond costs: ${min_price:,.2f}\")"
      ],
      "metadata": {
        "colab": {
          "base_uri": "https://localhost:8080/"
        },
        "id": "cban3P5FOBZ3",
        "outputId": "62b3022a-632c-4bdd-f0fc-cc724ccb2454"
      },
      "execution_count": 28,
      "outputs": [
        {
          "output_type": "stream",
          "name": "stdout",
          "text": [
            "Our most valuable diamond costs: $101,561.00\n",
            "Our least valuable diamond costs: $2,184.00\n"
          ]
        }
      ]
    },
    {
      "cell_type": "code",
      "source": [
        "# Question 7\n",
        "\n",
        "result = df.group_by(\"Color\").agg(\n",
        "    pl.col(\"Price\").mean().alias(\"Average_Price\"),\n",
        "    pl.len().alias(\"Count\")\n",
        ").sort(\"Average_Price\", descending=True)\n",
        "\n",
        "print(result)"
      ],
      "metadata": {
        "colab": {
          "base_uri": "https://localhost:8080/"
        },
        "id": "kDxum3PpOWjz",
        "outputId": "b2507d20-d1d0-4eaf-a543-3d8924b0f0ce"
      },
      "execution_count": 37,
      "outputs": [
        {
          "output_type": "stream",
          "name": "stdout",
          "text": [
            "shape: (6, 3)\n",
            "┌───────┬───────────────┬───────┐\n",
            "│ Color ┆ Average_Price ┆ Count │\n",
            "│ ---   ┆ ---           ┆ ---   │\n",
            "│ str   ┆ f64           ┆ u32   │\n",
            "╞═══════╪═══════════════╪═══════╡\n",
            "│ D     ┆ 15255.783661  ┆ 661   │\n",
            "│ F     ┆ 12712.241856  ┆ 1013  │\n",
            "│ G     ┆ 12520.050633  ┆ 1501  │\n",
            "│ E     ┆ 11539.190231  ┆ 778   │\n",
            "│ H     ┆ 10487.347544  ┆ 1079  │\n",
            "│ I     ┆ 8989.636364   ┆ 968   │\n",
            "└───────┴───────────────┴───────┘\n"
          ]
        }
      ]
    },
    {
      "cell_type": "code",
      "source": [
        "# Question 8\n",
        "\n",
        "\n",
        "result = df.group_by(\"Clarity\").agg(\n",
        "    [pl.count().alias(\"Diamond_Count\"),\n",
        "    pl.col(\"Price\").mean().alias(\"Average_Price\"),\n",
        "    pl.col(\"Carat Weight\").sum().alias(\"Total_Carat_Weight\")\n",
        "]).sort(\"Clarity\", descending=True)\n",
        "\n",
        "print(result)"
      ],
      "metadata": {
        "colab": {
          "base_uri": "https://localhost:8080/"
        },
        "id": "BUBFJ9zpRK0U",
        "outputId": "db10a306-788e-4d74-bc6c-883e2ac7b331"
      },
      "execution_count": 43,
      "outputs": [
        {
          "output_type": "stream",
          "name": "stdout",
          "text": [
            "shape: (7, 4)\n",
            "┌─────────┬───────────────┬───────────────┬────────────────────┐\n",
            "│ Clarity ┆ Diamond_Count ┆ Average_Price ┆ Total_Carat_Weight │\n",
            "│ ---     ┆ ---           ┆ ---           ┆ ---                │\n",
            "│ str     ┆ u32           ┆ f64           ┆ f64                │\n",
            "╞═════════╪═══════════════╪═══════════════╪════════════════════╡\n",
            "│ VVS2    ┆ 666           ┆ 14142.177177  ┆ 876.58             │\n",
            "│ VVS1    ┆ 285           ┆ 16845.680702  ┆ 389.43             │\n",
            "│ VS2     ┆ 1575          ┆ 11809.053333  ┆ 2170.81            │\n",
            "│ VS1     ┆ 1192          ┆ 13694.113255  ┆ 1682.74            │\n",
            "│ SI1     ┆ 2059          ┆ 8018.864012   ┆ 2563.69            │\n",
            "│ IF      ┆ 219           ┆ 22105.844749  ┆ 316.0              │\n",
            "│ FL      ┆ 4             ┆ 63776.0       ┆ 7.87               │\n",
            "└─────────┴───────────────┴───────────────┴────────────────────┘\n"
          ]
        },
        {
          "output_type": "stream",
          "name": "stderr",
          "text": [
            "/tmp/ipython-input-3129724538.py:5: DeprecationWarning: `pl.count()` is deprecated. Please use `pl.len()` instead.\n",
            "  [pl.count().alias(\"Diamond_Count\"),\n"
          ]
        }
      ]
    },
    {
      "cell_type": "code",
      "source": [
        "# Question 9\n",
        "\n",
        "result = df.group_by([\"Cut\", \"Color\"]).agg(\n",
        "    pl.col(\"Price\").mean().alias(\"avg_price\")\n",
        ").sort([\"Cut\", \"Color\"])\n",
        "\n",
        "print(\"NEW GRAIN: one row per cut-color combination\")\n",
        "print(f\"Number of unique combinations: {len(result)}\")\n",
        "result.head(10)"
      ],
      "metadata": {
        "colab": {
          "base_uri": "https://localhost:8080/",
          "height": 441
        },
        "id": "eJxgAGaWasRr",
        "outputId": "3672c233-068d-447b-bb6b-1c647e228596"
      },
      "execution_count": 48,
      "outputs": [
        {
          "output_type": "stream",
          "name": "stdout",
          "text": [
            "NEW GRAIN: one row per cut-color combination\n",
            "Number of unique combinations: 30\n"
          ]
        },
        {
          "output_type": "execute_result",
          "data": {
            "text/plain": [
              "shape: (10, 3)\n",
              "┌──────┬───────┬──────────────┐\n",
              "│ Cut  ┆ Color ┆ avg_price    │\n",
              "│ ---  ┆ ---   ┆ ---          │\n",
              "│ str  ┆ str   ┆ f64          │\n",
              "╞══════╪═══════╪══════════════╡\n",
              "│ Fair ┆ D     ┆ 6058.25      │\n",
              "│ Fair ┆ E     ┆ 5370.625     │\n",
              "│ Fair ┆ F     ┆ 6063.625     │\n",
              "│ Fair ┆ G     ┆ 7345.52381   │\n",
              "│ Fair ┆ H     ┆ 5908.5       │\n",
              "│ Fair ┆ I     ┆ 4573.1875    │\n",
              "│ Good ┆ D     ┆ 10058.716216 │\n",
              "│ Good ┆ E     ┆ 8969.545455  │\n",
              "│ Good ┆ F     ┆ 9274.007519  │\n",
              "│ Good ┆ G     ┆ 9988.614865  │\n",
              "└──────┴───────┴──────────────┘"
            ],
            "text/html": [
              "<div><style>\n",
              ".dataframe > thead > tr,\n",
              ".dataframe > tbody > tr {\n",
              "  text-align: right;\n",
              "  white-space: pre-wrap;\n",
              "}\n",
              "</style>\n",
              "<small>shape: (10, 3)</small><table border=\"1\" class=\"dataframe\"><thead><tr><th>Cut</th><th>Color</th><th>avg_price</th></tr><tr><td>str</td><td>str</td><td>f64</td></tr></thead><tbody><tr><td>&quot;Fair&quot;</td><td>&quot;D&quot;</td><td>6058.25</td></tr><tr><td>&quot;Fair&quot;</td><td>&quot;E&quot;</td><td>5370.625</td></tr><tr><td>&quot;Fair&quot;</td><td>&quot;F&quot;</td><td>6063.625</td></tr><tr><td>&quot;Fair&quot;</td><td>&quot;G&quot;</td><td>7345.52381</td></tr><tr><td>&quot;Fair&quot;</td><td>&quot;H&quot;</td><td>5908.5</td></tr><tr><td>&quot;Fair&quot;</td><td>&quot;I&quot;</td><td>4573.1875</td></tr><tr><td>&quot;Good&quot;</td><td>&quot;D&quot;</td><td>10058.716216</td></tr><tr><td>&quot;Good&quot;</td><td>&quot;E&quot;</td><td>8969.545455</td></tr><tr><td>&quot;Good&quot;</td><td>&quot;F&quot;</td><td>9274.007519</td></tr><tr><td>&quot;Good&quot;</td><td>&quot;G&quot;</td><td>9988.614865</td></tr></tbody></table></div>"
            ]
          },
          "metadata": {},
          "execution_count": 48
        }
      ]
    },
    {
      "cell_type": "code",
      "source": [
        "# Questin 10\n",
        "\n",
        "result = df.group_by([\"Cut\", \"Color\"]).agg(\n",
        "    pl.col(\"Price\").sum().alias(\"Inventory_Value\"),\n",
        "    pl.len().alias(\"Count\"),\n",
        "    ).sort(\"Inventory_Value\", descending=True)\n",
        "\n",
        "print(result)\n",
        "\n",
        "result.head(5)"
      ],
      "metadata": {
        "colab": {
          "base_uri": "https://localhost:8080/",
          "height": 558
        },
        "id": "zFyWmA-kc-lS",
        "outputId": "cde58652-5826-47a9-9c5c-00df9297131b"
      },
      "execution_count": 52,
      "outputs": [
        {
          "output_type": "stream",
          "name": "stdout",
          "text": [
            "shape: (30, 4)\n",
            "┌───────────┬───────┬─────────────────┬───────┐\n",
            "│ Cut       ┆ Color ┆ Inventory_Value ┆ Count │\n",
            "│ ---       ┆ ---   ┆ ---             ┆ ---   │\n",
            "│ str       ┆ str   ┆ i64             ┆ u32   │\n",
            "╞═══════════╪═══════╪═════════════════╪═══════╡\n",
            "│ Ideal     ┆ G     ┆ 9363514         ┆ 690   │\n",
            "│ Very Good ┆ G     ┆ 7140620         ┆ 578   │\n",
            "│ Very Good ┆ F     ┆ 5648327         ┆ 455   │\n",
            "│ Ideal     ┆ F     ┆ 5346782         ┆ 363   │\n",
            "│ Ideal     ┆ H     ┆ 5279687         ┆ 458   │\n",
            "│ …         ┆ …     ┆ …               ┆ …     │\n",
            "│ Fair      ┆ G     ┆ 154256          ┆ 21    │\n",
            "│ Fair      ┆ F     ┆ 145527          ┆ 24    │\n",
            "│ Fair      ┆ H     ┆ 141804          ┆ 24    │\n",
            "│ Fair      ┆ I     ┆ 73171           ┆ 16    │\n",
            "│ Fair      ┆ D     ┆ 72699           ┆ 12    │\n",
            "└───────────┴───────┴─────────────────┴───────┘\n"
          ]
        },
        {
          "output_type": "execute_result",
          "data": {
            "text/plain": [
              "shape: (5, 4)\n",
              "┌───────────┬───────┬─────────────────┬───────┐\n",
              "│ Cut       ┆ Color ┆ Inventory_Value ┆ Count │\n",
              "│ ---       ┆ ---   ┆ ---             ┆ ---   │\n",
              "│ str       ┆ str   ┆ i64             ┆ u32   │\n",
              "╞═══════════╪═══════╪═════════════════╪═══════╡\n",
              "│ Ideal     ┆ G     ┆ 9363514         ┆ 690   │\n",
              "│ Very Good ┆ G     ┆ 7140620         ┆ 578   │\n",
              "│ Very Good ┆ F     ┆ 5648327         ┆ 455   │\n",
              "│ Ideal     ┆ F     ┆ 5346782         ┆ 363   │\n",
              "│ Ideal     ┆ H     ┆ 5279687         ┆ 458   │\n",
              "└───────────┴───────┴─────────────────┴───────┘"
            ],
            "text/html": [
              "<div><style>\n",
              ".dataframe > thead > tr,\n",
              ".dataframe > tbody > tr {\n",
              "  text-align: right;\n",
              "  white-space: pre-wrap;\n",
              "}\n",
              "</style>\n",
              "<small>shape: (5, 4)</small><table border=\"1\" class=\"dataframe\"><thead><tr><th>Cut</th><th>Color</th><th>Inventory_Value</th><th>Count</th></tr><tr><td>str</td><td>str</td><td>i64</td><td>u32</td></tr></thead><tbody><tr><td>&quot;Ideal&quot;</td><td>&quot;G&quot;</td><td>9363514</td><td>690</td></tr><tr><td>&quot;Very Good&quot;</td><td>&quot;G&quot;</td><td>7140620</td><td>578</td></tr><tr><td>&quot;Very Good&quot;</td><td>&quot;F&quot;</td><td>5648327</td><td>455</td></tr><tr><td>&quot;Ideal&quot;</td><td>&quot;F&quot;</td><td>5346782</td><td>363</td></tr><tr><td>&quot;Ideal&quot;</td><td>&quot;H&quot;</td><td>5279687</td><td>458</td></tr></tbody></table></div>"
            ]
          },
          "metadata": {},
          "execution_count": 52
        }
      ]
    }
  ]
}